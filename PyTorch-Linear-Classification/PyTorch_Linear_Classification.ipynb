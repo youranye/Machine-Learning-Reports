{
  "cells": [
    {
      "cell_type": "markdown",
      "metadata": {},
      "source": [
        "# Biweekly Report 2 - Breast Cancer Classification\n",
        "\n",
        "From previous classes we learned linear models for classification, whose loss function is baiscally the cross-entropy. Here I am going to use a linear model for classifying digitized images of breast cancer. The dataset I use is Breast Cancer Wisconsin (Diagnostic) from UCI: https://archive.ics.uci.edu/dataset/17/breast+cancer+wisconsin+diagnostic and I simply import it from sklearn. It is a binary classification task. "
      ]
    },
    {
      "cell_type": "code",
      "execution_count": 1,
      "metadata": {
        "id": "t0uSyoAY-0CM"
      },
      "outputs": [],
      "source": [
        "import torch\n",
        "import torch.nn as nn\n",
        "from torch.optim import Optimizer\n",
        "import numpy as np\n",
        "import matplotlib.pyplot as plt\n"
      ]
    },
    {
      "cell_type": "markdown",
      "metadata": {},
      "source": [
        "First let's take a look at the data. "
      ]
    },
    {
      "cell_type": "code",
      "execution_count": 2,
      "metadata": {
        "id": "0Sbiaim6_WhZ"
      },
      "outputs": [],
      "source": [
        "# Load in the dataset\n",
        "from sklearn.datasets import load_breast_cancer\n"
      ]
    },
    {
      "cell_type": "code",
      "execution_count": 3,
      "metadata": {
        "id": "suA-_Poh_ro5"
      },
      "outputs": [],
      "source": [
        "# Load the data\n",
        "data = load_breast_cancer()"
      ]
    },
    {
      "cell_type": "code",
      "execution_count": 4,
      "metadata": {
        "colab": {
          "base_uri": "https://localhost:8080/"
        },
        "id": "XVyFc64NBgUD",
        "outputId": "f6c55b54-4b10-4d6e-ab96-56fe0dcbc29f"
      },
      "outputs": [
        {
          "data": {
            "text/plain": [
              "sklearn.utils._bunch.Bunch"
            ]
          },
          "execution_count": 4,
          "metadata": {},
          "output_type": "execute_result"
        }
      ],
      "source": [
        "# Check the type of data\n",
        "type(data)"
      ]
    },
    {
      "cell_type": "markdown",
      "metadata": {},
      "source": [
        "It's a bunch type. This basically act like a dictionary where you can treat the keys like attributes. Take a look below. "
      ]
    },
    {
      "cell_type": "code",
      "execution_count": 5,
      "metadata": {
        "colab": {
          "base_uri": "https://localhost:8080/"
        },
        "id": "uO9qvvz1B87w",
        "outputId": "69ecbd19-5663-492b-868f-bfbf9c9a93e4"
      },
      "outputs": [
        {
          "data": {
            "text/plain": [
              "dict_keys(['data', 'target', 'frame', 'target_names', 'DESCR', 'feature_names', 'filename', 'data_module'])"
            ]
          },
          "execution_count": 5,
          "metadata": {},
          "output_type": "execute_result"
        }
      ],
      "source": [
        "data.keys()"
      ]
    },
    {
      "cell_type": "markdown",
      "metadata": {},
      "source": [
        "Let's take a look at the shape of data so we can know the input dimension. It is 30 here. "
      ]
    },
    {
      "cell_type": "code",
      "execution_count": 6,
      "metadata": {
        "colab": {
          "base_uri": "https://localhost:8080/"
        },
        "id": "IfokgeI0DmDy",
        "outputId": "23d2c509-8f1b-4c05-f6b0-e0f72c683b27"
      },
      "outputs": [
        {
          "data": {
            "text/plain": [
              "(569, 30)"
            ]
          },
          "execution_count": 6,
          "metadata": {},
          "output_type": "execute_result"
        }
      ],
      "source": [
        "# data (the attribute) means input data\n",
        "data.data.shape\n",
        "# It has 569 samples and 30 features"
      ]
    },
    {
      "cell_type": "markdown",
      "metadata": {},
      "source": [
        "Now let's look at the targets.   \n",
        "Since it is a binary classification task, the targets are just 0s and 1s. Normally, when you have K targets, they are labeled 0...(K-1). "
      ]
    },
    {
      "cell_type": "code",
      "execution_count": 7,
      "metadata": {
        "colab": {
          "base_uri": "https://localhost:8080/"
        },
        "id": "88LqmscgEc0i",
        "outputId": "8d19ec87-7737-46dc-b2ea-f25c914c3d17"
      },
      "outputs": [
        {
          "data": {
            "text/plain": [
              "array([0, 0, 0, 0, 0, 0, 0, 0, 0, 0, 0, 0, 0, 0, 0, 0, 0, 0, 0, 1, 1, 1,\n",
              "       0, 0, 0, 0, 0, 0, 0, 0, 0, 0, 0, 0, 0, 0, 0, 1, 0, 0, 0, 0, 0, 0,\n",
              "       0, 0, 1, 0, 1, 1, 1, 1, 1, 0, 0, 1, 0, 0, 1, 1, 1, 1, 0, 1, 0, 0,\n",
              "       1, 1, 1, 1, 0, 1, 0, 0, 1, 0, 1, 0, 0, 1, 1, 1, 0, 0, 1, 0, 0, 0,\n",
              "       1, 1, 1, 0, 1, 1, 0, 0, 1, 1, 1, 0, 0, 1, 1, 1, 1, 0, 1, 1, 0, 1,\n",
              "       1, 1, 1, 1, 1, 1, 1, 0, 0, 0, 1, 0, 0, 1, 1, 1, 0, 0, 1, 0, 1, 0,\n",
              "       0, 1, 0, 0, 1, 1, 0, 1, 1, 0, 1, 1, 1, 1, 0, 1, 1, 1, 1, 1, 1, 1,\n",
              "       1, 1, 0, 1, 1, 1, 1, 0, 0, 1, 0, 1, 1, 0, 0, 1, 1, 0, 0, 1, 1, 1,\n",
              "       1, 0, 1, 1, 0, 0, 0, 1, 0, 1, 0, 1, 1, 1, 0, 1, 1, 0, 0, 1, 0, 0,\n",
              "       0, 0, 1, 0, 0, 0, 1, 0, 1, 0, 1, 1, 0, 1, 0, 0, 0, 0, 1, 1, 0, 0,\n",
              "       1, 1, 1, 0, 1, 1, 1, 1, 1, 0, 0, 1, 1, 0, 1, 1, 0, 0, 1, 0, 1, 1,\n",
              "       1, 1, 0, 1, 1, 1, 1, 1, 0, 1, 0, 0, 0, 0, 0, 0, 0, 0, 0, 0, 0, 0,\n",
              "       0, 0, 1, 1, 1, 1, 1, 1, 0, 1, 0, 1, 1, 0, 1, 1, 0, 1, 0, 0, 1, 1,\n",
              "       1, 1, 1, 1, 1, 1, 1, 1, 1, 1, 1, 0, 1, 1, 0, 1, 0, 1, 1, 1, 1, 1,\n",
              "       1, 1, 1, 1, 1, 1, 1, 1, 1, 0, 1, 1, 1, 0, 1, 0, 1, 1, 1, 1, 0, 0,\n",
              "       0, 1, 1, 1, 1, 0, 1, 0, 1, 0, 1, 1, 1, 0, 1, 1, 1, 1, 1, 1, 1, 0,\n",
              "       0, 0, 1, 1, 1, 1, 1, 1, 1, 1, 1, 1, 1, 0, 0, 1, 0, 0, 0, 1, 0, 0,\n",
              "       1, 1, 1, 1, 1, 0, 1, 1, 1, 1, 1, 0, 1, 1, 1, 0, 1, 1, 0, 0, 1, 1,\n",
              "       1, 1, 1, 1, 0, 1, 1, 1, 1, 1, 1, 1, 0, 1, 1, 1, 1, 1, 0, 1, 1, 0,\n",
              "       1, 1, 1, 1, 1, 1, 1, 1, 1, 1, 1, 1, 0, 1, 0, 0, 1, 0, 1, 1, 1, 1,\n",
              "       1, 0, 1, 1, 0, 1, 0, 1, 1, 0, 1, 0, 1, 1, 1, 1, 1, 1, 1, 1, 0, 0,\n",
              "       1, 1, 1, 1, 1, 1, 0, 1, 1, 1, 1, 1, 1, 1, 1, 1, 1, 0, 1, 1, 1, 1,\n",
              "       1, 1, 1, 0, 1, 0, 1, 1, 0, 1, 1, 1, 1, 1, 0, 0, 1, 0, 1, 0, 1, 1,\n",
              "       1, 1, 1, 0, 1, 1, 0, 1, 0, 1, 0, 0, 1, 1, 1, 0, 1, 1, 1, 1, 1, 1,\n",
              "       1, 1, 1, 1, 1, 0, 1, 0, 0, 1, 1, 1, 1, 1, 1, 1, 1, 1, 1, 1, 1, 1,\n",
              "       1, 1, 1, 1, 1, 1, 1, 1, 1, 1, 1, 1, 0, 0, 0, 0, 0, 0, 1])"
            ]
          },
          "execution_count": 7,
          "metadata": {},
          "output_type": "execute_result"
        }
      ],
      "source": [
        "# Targets\n",
        "data.target"
      ]
    },
    {
      "cell_type": "markdown",
      "metadata": {},
      "source": [
        "We can also get the meanings of the targets. They are \"malignant\" and \"benign\" in this case."
      ]
    },
    {
      "cell_type": "code",
      "execution_count": 8,
      "metadata": {
        "colab": {
          "base_uri": "https://localhost:8080/"
        },
        "id": "SwT5t8J5FT5S",
        "outputId": "4d4b0525-690c-4349-a0c2-1c447f67ba48"
      },
      "outputs": [
        {
          "data": {
            "text/plain": [
              "array(['malignant', 'benign'], dtype='<U9')"
            ]
          },
          "execution_count": 8,
          "metadata": {},
          "output_type": "execute_result"
        }
      ],
      "source": [
        "# Their meaning is not lost\n",
        "data.target_names"
      ]
    },
    {
      "cell_type": "markdown",
      "metadata": {},
      "source": [
        "There are also 569 corresponding targets."
      ]
    },
    {
      "cell_type": "code",
      "execution_count": 9,
      "metadata": {
        "colab": {
          "base_uri": "https://localhost:8080/"
        },
        "id": "0N2MRLH5FoV6",
        "outputId": "a2f13dc6-e800-4927-ff6d-1eb4e2dc9997"
      },
      "outputs": [
        {
          "data": {
            "text/plain": [
              "(569,)"
            ]
          },
          "execution_count": 9,
          "metadata": {},
          "output_type": "execute_result"
        }
      ],
      "source": [
        "data.target.shape"
      ]
    },
    {
      "cell_type": "markdown",
      "metadata": {},
      "source": [
        "Also, we can get the meaning of each feature. And you can now infer that we have 30 of them."
      ]
    },
    {
      "cell_type": "code",
      "execution_count": 10,
      "metadata": {
        "colab": {
          "base_uri": "https://localhost:8080/"
        },
        "id": "-X3HVKrYF6X5",
        "outputId": "ff7773b4-7d7a-47ec-fb99-e2670f935cfd"
      },
      "outputs": [
        {
          "data": {
            "text/plain": [
              "array(['mean radius', 'mean texture', 'mean perimeter', 'mean area',\n",
              "       'mean smoothness', 'mean compactness', 'mean concavity',\n",
              "       'mean concave points', 'mean symmetry', 'mean fractal dimension',\n",
              "       'radius error', 'texture error', 'perimeter error', 'area error',\n",
              "       'smoothness error', 'compactness error', 'concavity error',\n",
              "       'concave points error', 'symmetry error',\n",
              "       'fractal dimension error', 'worst radius', 'worst texture',\n",
              "       'worst perimeter', 'worst area', 'worst smoothness',\n",
              "       'worst compactness', 'worst concavity', 'worst concave points',\n",
              "       'worst symmetry', 'worst fractal dimension'], dtype='<U23')"
            ]
          },
          "execution_count": 10,
          "metadata": {},
          "output_type": "execute_result"
        }
      ],
      "source": [
        "data.feature_names"
      ]
    },
    {
      "cell_type": "markdown",
      "metadata": {},
      "source": [
        "Now let's start processing the data. First split them into training set and testing set. "
      ]
    },
    {
      "cell_type": "code",
      "execution_count": 11,
      "metadata": {
        "id": "I3TnmvvgGhQq"
      },
      "outputs": [],
      "source": [
        "from sklearn.model_selection import train_test_split\n",
        "\n",
        "# Split the data into train and test\n",
        "x_train,X_test,y_train,y_test = train_test_split(data.data,data.target,test_size=0.40)\n",
        "N,D = x_train.shape\n"
      ]
    },
    {
      "cell_type": "code",
      "execution_count": 12,
      "metadata": {
        "id": "JY2SyNizIFZy"
      },
      "outputs": [],
      "source": [
        "# Scale the data\n",
        "from sklearn.preprocessing import StandardScaler\n",
        "\n",
        "scaler = StandardScaler()\n",
        "x_train = scaler.fit_transform(x_train)\n",
        "x_test = scaler.transform(X_test)\n"
      ]
    },
    {
      "cell_type": "markdown",
      "metadata": {},
      "source": [
        "Now build the model. Since I am doing this with Pytorch, it is very simple. I use a linear layer, whose output dimension is 1 because it is a binary classification, followed by a sigmoid layer, which is the activation function. "
      ]
    },
    {
      "cell_type": "code",
      "execution_count": 13,
      "metadata": {
        "id": "YuqBdAFEJ007"
      },
      "outputs": [],
      "source": [
        "# Build the model\n",
        "model = nn.Sequential(\n",
        "    nn.Linear(D,1),\n",
        "    nn.Sigmoid()\n",
        ")"
      ]
    },
    {
      "cell_type": "markdown",
      "metadata": {},
      "source": [
        "For loss function, I choose BCE, a criterion that measures the Binary Cross Entropy between the target and the input probabilities. The fomula is: $$ l_n = -w_n[y_n \\cdot log(x_n) + (1 - y_n) \\cdot log(1 - x_n)] $$\n",
        "You can find more information here: https://pytorch.org/docs/stable/generated/torch.nn.BCELoss.html#torch.nn.BCELoss.   \n",
        "  \n",
        "For optimization method (solver), I choose Adam. Though it is not covered in class, I found it quite useful and seemed to perform better than SGD in this case. You can get detailed information on it here: https://pytorch.org/docs/stable/generated/torch.optim.Adam.html#adam."
      ]
    },
    {
      "cell_type": "code",
      "execution_count": 14,
      "metadata": {
        "id": "KR-sMPvTLRx8"
      },
      "outputs": [],
      "source": [
        "# Loss and Optimizer\n",
        "criterion = nn.BCELoss()\n",
        "Optimizer = torch.optim.Adam(model.parameters(), lr = 0.01)"
      ]
    },
    {
      "cell_type": "code",
      "execution_count": 15,
      "metadata": {
        "id": "qAa6_yVGQxS3"
      },
      "outputs": [],
      "source": [
        "# Convert data into torch tensor\n",
        "x_train = torch.from_numpy(x_train.astype(np.float32))\n",
        "x_test = torch.from_numpy(x_test.astype(np.float32))\n",
        "y_train = torch.from_numpy(y_train.astype(np.float32).reshape(-1, 1))\n",
        "y_test = torch.from_numpy(y_test.astype(np.float32).reshape(-1, 1))"
      ]
    },
    {
      "cell_type": "markdown",
      "metadata": {},
      "source": [
        "Now we have gone through data processing and model construction. It is time for training! "
      ]
    },
    {
      "cell_type": "code",
      "execution_count": 16,
      "metadata": {
        "colab": {
          "base_uri": "https://localhost:8080/"
        },
        "id": "b9M6HpQebsSl",
        "outputId": "2fdaf632-d75e-4c79-a0e2-739126df0869"
      },
      "outputs": [
        {
          "name": "stdout",
          "output_type": "stream",
          "text": [
            "Epoch 1/100,Train Loss: 1.1371,Test Loss: 1.137107014656067\n",
            "Epoch 2/100,Train Loss: 1.0366,Test Loss: 1.0365676879882812\n",
            "Epoch 3/100,Train Loss: 0.9427,Test Loss: 0.9427438378334045\n",
            "Epoch 4/100,Train Loss: 0.8559,Test Loss: 0.8559038043022156\n",
            "Epoch 5/100,Train Loss: 0.7765,Test Loss: 0.7764803767204285\n",
            "Epoch 6/100,Train Loss: 0.7048,Test Loss: 0.7048231959342957\n",
            "Epoch 7/100,Train Loss: 0.6410,Test Loss: 0.6409729719161987\n",
            "Epoch 8/100,Train Loss: 0.5846,Test Loss: 0.5846303701400757\n",
            "Epoch 9/100,Train Loss: 0.5352,Test Loss: 0.535243034362793\n",
            "Epoch 10/100,Train Loss: 0.4921,Test Loss: 0.49212461709976196\n",
            "Epoch 11/100,Train Loss: 0.4545,Test Loss: 0.4545474648475647\n",
            "Epoch 12/100,Train Loss: 0.4218,Test Loss: 0.4218006432056427\n",
            "Epoch 13/100,Train Loss: 0.3932,Test Loss: 0.3932238817214966\n",
            "Epoch 14/100,Train Loss: 0.3682,Test Loss: 0.3682246804237366\n",
            "Epoch 15/100,Train Loss: 0.3463,Test Loss: 0.3462833762168884\n",
            "Epoch 16/100,Train Loss: 0.3270,Test Loss: 0.3269515335559845\n",
            "Epoch 17/100,Train Loss: 0.3098,Test Loss: 0.30984628200531006\n",
            "Epoch 18/100,Train Loss: 0.2946,Test Loss: 0.29464295506477356\n",
            "Epoch 19/100,Train Loss: 0.2811,Test Loss: 0.2810676395893097\n",
            "Epoch 20/100,Train Loss: 0.2689,Test Loss: 0.26888951659202576\n",
            "Epoch 21/100,Train Loss: 0.2579,Test Loss: 0.25791487097740173\n",
            "Epoch 22/100,Train Loss: 0.2480,Test Loss: 0.24798080325126648\n",
            "Epoch 23/100,Train Loss: 0.2390,Test Loss: 0.23895059525966644\n",
            "Epoch 24/100,Train Loss: 0.2307,Test Loss: 0.23070910573005676\n",
            "Epoch 25/100,Train Loss: 0.2232,Test Loss: 0.22315922379493713\n",
            "Epoch 26/100,Train Loss: 0.2162,Test Loss: 0.21621881425380707\n",
            "Epoch 27/100,Train Loss: 0.2098,Test Loss: 0.2098180204629898\n",
            "Epoch 28/100,Train Loss: 0.2039,Test Loss: 0.2038973569869995\n",
            "Epoch 29/100,Train Loss: 0.1984,Test Loss: 0.19840580224990845\n",
            "Epoch 30/100,Train Loss: 0.1933,Test Loss: 0.1932995319366455\n",
            "Epoch 31/100,Train Loss: 0.1885,Test Loss: 0.18854059278964996\n",
            "Epoch 32/100,Train Loss: 0.1841,Test Loss: 0.1840960830450058\n",
            "Epoch 33/100,Train Loss: 0.1799,Test Loss: 0.17993730306625366\n",
            "Epoch 34/100,Train Loss: 0.1760,Test Loss: 0.17603905498981476\n",
            "Epoch 35/100,Train Loss: 0.1724,Test Loss: 0.17237921059131622\n",
            "Epoch 36/100,Train Loss: 0.1689,Test Loss: 0.16893824934959412\n",
            "Epoch 37/100,Train Loss: 0.1657,Test Loss: 0.16569873690605164\n",
            "Epoch 38/100,Train Loss: 0.1626,Test Loss: 0.16264520585536957\n",
            "Epoch 39/100,Train Loss: 0.1598,Test Loss: 0.15976376831531525\n",
            "Epoch 40/100,Train Loss: 0.1570,Test Loss: 0.15704190731048584\n",
            "Epoch 41/100,Train Loss: 0.1545,Test Loss: 0.15446837246418\n",
            "Epoch 42/100,Train Loss: 0.1520,Test Loss: 0.15203282237052917\n",
            "Epoch 43/100,Train Loss: 0.1497,Test Loss: 0.14972594380378723\n",
            "Epoch 44/100,Train Loss: 0.1475,Test Loss: 0.14753910899162292\n",
            "Epoch 45/100,Train Loss: 0.1455,Test Loss: 0.14546439051628113\n",
            "Epoch 46/100,Train Loss: 0.1435,Test Loss: 0.14349450170993805\n",
            "Epoch 47/100,Train Loss: 0.1416,Test Loss: 0.14162257313728333\n",
            "Epoch 48/100,Train Loss: 0.1398,Test Loss: 0.13984233140945435\n",
            "Epoch 49/100,Train Loss: 0.1381,Test Loss: 0.1381477564573288\n",
            "Epoch 50/100,Train Loss: 0.1365,Test Loss: 0.13653333485126495\n",
            "Epoch 51/100,Train Loss: 0.1350,Test Loss: 0.13499383628368378\n",
            "Epoch 52/100,Train Loss: 0.1335,Test Loss: 0.13352440297603607\n",
            "Epoch 53/100,Train Loss: 0.1321,Test Loss: 0.13212041556835175\n",
            "Epoch 54/100,Train Loss: 0.1308,Test Loss: 0.13077755272388458\n",
            "Epoch 55/100,Train Loss: 0.1295,Test Loss: 0.12949177622795105\n",
            "Epoch 56/100,Train Loss: 0.1283,Test Loss: 0.1282593458890915\n",
            "Epoch 57/100,Train Loss: 0.1271,Test Loss: 0.12707670032978058\n",
            "Epoch 58/100,Train Loss: 0.1259,Test Loss: 0.12594054639339447\n",
            "Epoch 59/100,Train Loss: 0.1248,Test Loss: 0.12484787404537201\n",
            "Epoch 60/100,Train Loss: 0.1238,Test Loss: 0.12379582971334457\n",
            "Epoch 61/100,Train Loss: 0.1228,Test Loss: 0.12278180569410324\n",
            "Epoch 62/100,Train Loss: 0.1218,Test Loss: 0.121803417801857\n",
            "Epoch 63/100,Train Loss: 0.1209,Test Loss: 0.12085844576358795\n",
            "Epoch 64/100,Train Loss: 0.1199,Test Loss: 0.11994481831789017\n",
            "Epoch 65/100,Train Loss: 0.1191,Test Loss: 0.1190607100725174\n",
            "Epoch 66/100,Train Loss: 0.1182,Test Loss: 0.11820437759160995\n",
            "Epoch 67/100,Train Loss: 0.1174,Test Loss: 0.11737427115440369\n",
            "Epoch 68/100,Train Loss: 0.1166,Test Loss: 0.116568922996521\n",
            "Epoch 69/100,Train Loss: 0.1158,Test Loss: 0.11578702181577682\n",
            "Epoch 70/100,Train Loss: 0.1150,Test Loss: 0.11502736061811447\n",
            "Epoch 71/100,Train Loss: 0.1143,Test Loss: 0.1142888218164444\n",
            "Epoch 72/100,Train Loss: 0.1136,Test Loss: 0.11357031762599945\n",
            "Epoch 73/100,Train Loss: 0.1129,Test Loss: 0.1128709614276886\n",
            "Epoch 74/100,Train Loss: 0.1122,Test Loss: 0.11218982934951782\n",
            "Epoch 75/100,Train Loss: 0.1115,Test Loss: 0.11152611672878265\n",
            "Epoch 76/100,Train Loss: 0.1109,Test Loss: 0.11087906360626221\n",
            "Epoch 77/100,Train Loss: 0.1102,Test Loss: 0.11024793982505798\n",
            "Epoch 78/100,Train Loss: 0.1096,Test Loss: 0.10963207483291626\n",
            "Epoch 79/100,Train Loss: 0.1090,Test Loss: 0.10903085768222809\n",
            "Epoch 80/100,Train Loss: 0.1084,Test Loss: 0.10844369977712631\n",
            "Epoch 81/100,Train Loss: 0.1079,Test Loss: 0.10787001997232437\n",
            "Epoch 82/100,Train Loss: 0.1073,Test Loss: 0.10730932652950287\n",
            "Epoch 83/100,Train Loss: 0.1068,Test Loss: 0.10676111280918121\n",
            "Epoch 84/100,Train Loss: 0.1062,Test Loss: 0.10622493177652359\n",
            "Epoch 85/100,Train Loss: 0.1057,Test Loss: 0.1057002916932106\n",
            "Epoch 86/100,Train Loss: 0.1052,Test Loss: 0.10518679767847061\n",
            "Epoch 87/100,Train Loss: 0.1047,Test Loss: 0.10468405485153198\n",
            "Epoch 88/100,Train Loss: 0.1042,Test Loss: 0.10419166833162308\n",
            "Epoch 89/100,Train Loss: 0.1037,Test Loss: 0.10370928049087524\n",
            "Epoch 90/100,Train Loss: 0.1032,Test Loss: 0.10323652625083923\n",
            "Epoch 91/100,Train Loss: 0.1028,Test Loss: 0.10277311503887177\n",
            "Epoch 92/100,Train Loss: 0.1023,Test Loss: 0.10231868177652359\n",
            "Epoch 93/100,Train Loss: 0.1019,Test Loss: 0.10187296569347382\n",
            "Epoch 94/100,Train Loss: 0.1014,Test Loss: 0.10143567621707916\n",
            "Epoch 95/100,Train Loss: 0.1010,Test Loss: 0.10100653767585754\n",
            "Epoch 96/100,Train Loss: 0.1006,Test Loss: 0.10058524459600449\n",
            "Epoch 97/100,Train Loss: 0.1002,Test Loss: 0.10017160326242447\n",
            "Epoch 98/100,Train Loss: 0.0998,Test Loss: 0.0997653380036354\n",
            "Epoch 99/100,Train Loss: 0.0994,Test Loss: 0.09936623275279999\n",
            "Epoch 100/100,Train Loss: 0.0990,Test Loss: 0.09897405654191971\n"
          ]
        }
      ],
      "source": [
        "# Train the model\n",
        "n_epochs = 100\n",
        "\n",
        "# Stuff to store\n",
        "train_losses = np.zeros(n_epochs)\n",
        "test_losess = np.zeros(n_epochs)\n",
        "\n",
        "for it in range(n_epochs):\n",
        "  # Zero the parameter gradients\n",
        "  Optimizer.zero_grad()\n",
        "\n",
        "  # Forward pass\n",
        "  outputs = model(x_train)\n",
        "  loss = criterion(outputs,y_train)\n",
        "\n",
        "# Forward pass\n",
        "  outputs = model(x_train)\n",
        "  loss = criterion(outputs,y_train)\n",
        "\n",
        "# Backward and Optimize\n",
        "  loss.backward()\n",
        "  Optimizer.step()\n",
        "\n",
        " # Get test loss\n",
        "  outputs_test = model(x_test)\n",
        "  loss_test = criterion(outputs_test, y_test)\n",
        "\n",
        "\n",
        "# Save losses\n",
        "  train_losses[it] = loss.item()\n",
        "  test_losess[it] = loss_test.item()\n",
        "\n",
        "\n",
        "  print(f'Epoch {it+1}/{n_epochs},Train Loss: {loss.item():.4f},Test Loss: {loss.item()}')\n"
      ]
    },
    {
      "cell_type": "markdown",
      "metadata": {},
      "source": [
        "The below plot shows the change in loss during training. "
      ]
    },
    {
      "cell_type": "code",
      "execution_count": 17,
      "metadata": {
        "colab": {
          "base_uri": "https://localhost:8080/",
          "height": 430
        },
        "id": "FDY5d8Tz064t",
        "outputId": "e3506cd8-bdf0-4b71-efcc-abf3f8e6f6d9"
      },
      "outputs": [
        {
          "data": {
            "image/png": "[encoded data removed]",
            "text/plain": [
              "<Figure size 640x480 with 1 Axes>"
            ]
          },
          "metadata": {},
          "output_type": "display_data"
        }
      ],
      "source": [
        "# Plot the train loss and test loss per iteration\n",
        "plt.plot(train_losses,label='train loss')\n",
        "plt.plot(test_losess, label = 'test_loss')\n",
        "plt.legend()\n",
        "plt.show()\n"
      ]
    },
    {
      "cell_type": "markdown",
      "metadata": {},
      "source": [
        "Now calculate the accuracy. "
      ]
    },
    {
      "cell_type": "code",
      "execution_count": 18,
      "metadata": {
        "colab": {
          "base_uri": "https://localhost:8080/"
        },
        "id": "xd7bVXsnNUiy",
        "outputId": "1bcdfee4-f5f7-45d1-f274-b20d26918ab2"
      },
      "outputs": [
        {
          "name": "stdout",
          "output_type": "stream",
          "text": [
            "Train acc:  0.9736,Test acc:  0.9693\n"
          ]
        }
      ],
      "source": [
        "# Get accuracy\n",
        "with torch.no_grad():\n",
        "  p_train = model(x_train)\n",
        "  p_train = np.round(p_train.numpy())\n",
        "  train_acc = np.mean(y_train.numpy() == p_train)\n",
        "\n",
        "  p_test = model(x_test)\n",
        "  p_test = np.round(p_test.numpy())\n",
        "  test_acc = np.mean(y_test.numpy() == p_test)\n",
        "\n",
        "  print(f'Train acc: {train_acc: .4f},Test acc: {test_acc: .4f}')"
      ]
    },
    {
      "cell_type": "markdown",
      "metadata": {
        "id": "CTAr4KzASixC"
      },
      "source": [
        "Save and load the model here. "
      ]
    },
    {
      "cell_type": "code",
      "execution_count": 19,
      "metadata": {
        "colab": {
          "base_uri": "https://localhost:8080/"
        },
        "id": "Gek_j5q4SmZJ",
        "outputId": "d221e538-ad9e-45c3-82e1-c03424d8377e"
      },
      "outputs": [
        {
          "data": {
            "text/plain": [
              "OrderedDict([('0.weight',\n",
              "              tensor([[-0.2586, -0.2912, -0.4623, -0.3502, -0.3449, -0.2665, -0.1900, -0.3102,\n",
              "                       -0.1451,  0.6761, -0.3946,  0.0753, -0.4419, -0.3157, -0.0562, -0.0844,\n",
              "                       -0.0127, -0.2102,  0.3534,  0.2629, -0.2923, -0.3944, -0.2110, -0.2069,\n",
              "                       -0.2421, -0.2114, -0.2359, -0.2848, -0.4954, -0.2246]])),\n",
              "             ('0.bias', tensor([0.4958]))])"
            ]
          },
          "execution_count": 19,
          "metadata": {},
          "output_type": "execute_result"
        }
      ],
      "source": [
        "# look at the state dict\n",
        "model.state_dict()"
      ]
    },
    {
      "cell_type": "code",
      "execution_count": 20,
      "metadata": {
        "id": "VXKPEFwpS2HC"
      },
      "outputs": [],
      "source": [
        "# Save the model\n",
        "torch.save(model.state_dict(), 'myfirstmodel.pt')"
      ]
    },
    {
      "cell_type": "code",
      "execution_count": 21,
      "metadata": {
        "colab": {
          "base_uri": "https://localhost:8080/"
        },
        "id": "n0pD_TDtTfqy",
        "outputId": "adb6e64d-9b2c-41df-e600-c98c17d1aec6"
      },
      "outputs": [
        {
          "data": {
            "text/plain": [
              "<All keys matched successfully>"
            ]
          },
          "execution_count": 21,
          "metadata": {},
          "output_type": "execute_result"
        }
      ],
      "source": [
        "# Load the model\n",
        "# Note : this makes more sense and is more compact when your model is a big class, as we will be seeing later.\n",
        "model2 = nn.Sequential(\n",
        "    nn.Linear(D, 1),\n",
        "    nn.Sigmoid()\n",
        ")\n",
        "\n",
        "model2.load_state_dict(torch.load('myfirstmodel.pt'))"
      ]
    },
    {
      "cell_type": "markdown",
      "metadata": {},
      "source": [
        "Now evaluate the model and see the performance. "
      ]
    },
    {
      "cell_type": "code",
      "execution_count": 22,
      "metadata": {
        "colab": {
          "base_uri": "https://localhost:8080/"
        },
        "id": "GokFAXCtWLU9",
        "outputId": "91ccfa6f-1660-4e88-c75d-86c0da45ee40"
      },
      "outputs": [
        {
          "name": "stdout",
          "output_type": "stream",
          "text": [
            "Train acc:  0.9736, Test acc:  0.9693\n"
          ]
        }
      ],
      "source": [
        "# Evaluate the new model\n",
        "# Result should be the same since we use the same data and the model hyperparameters are not changed\n",
        "with torch.no_grad():\n",
        "  p_train = model2(x_train)\n",
        "  p_train = np.round(p_train.numpy())\n",
        "  train_acc = np.mean(y_train.numpy() == p_train)\n",
        "\n",
        "  p_test = model2(x_test)\n",
        "  p_test = np.round(p_test.numpy())\n",
        "  test_acc = np.mean(y_test.numpy() == p_test)\n",
        "\n",
        "\n",
        "\n",
        "print(f'Train acc: {train_acc: .4f}, Test acc: {test_acc: .4f}')\n"
      ]
    }
  ],
  "metadata": {
    "colab": {
      "authorship_tag": "ABX9TyMtwrGBfzz1QehXA3NnS/Lz",
      "include_colab_link": true,
      "provenance": []
    },
    "kernelspec": {
      "display_name": "Python 3",
      "name": "python3"
    },
    "language_info": {
      "codemirror_mode": {
        "name": "ipython",
        "version": 3
      },
      "file_extension": ".py",
      "mimetype": "text/x-python",
      "name": "python",
      "nbconvert_exporter": "python",
      "pygments_lexer": "ipython3",
      "version": "3.8.16"
    }
  },
  "nbformat": 4,
  "nbformat_minor": 0
}
